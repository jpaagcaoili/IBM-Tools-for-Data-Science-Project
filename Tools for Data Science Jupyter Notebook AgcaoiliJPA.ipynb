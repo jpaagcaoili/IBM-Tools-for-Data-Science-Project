{
 "cells": [
  {
   "cell_type": "markdown",
   "metadata": {
    "collapsed": false
   },
   "source": [
    "<H1>My Jupyter Notebook on IBM Watson Studio</H1>"
   ]
  },
  {
   "cell_type": "markdown",
   "metadata": {},
   "source": [
    "<b>John Patrick Aldrine Agcaoili</b>\n",
    "<div>Laboratory Technician<div>"
   ]
  },
  {
   "cell_type": "markdown",
   "metadata": {},
   "source": [
    "<i>I am interested in data science because the collective human race is generating data at an increasingly unprecedented rate and we need more to help make better sense of it all using more efficient means. </i>"
   ]
  },
  {
   "cell_type": "markdown",
   "metadata": {},
   "source": [
    "<H3>My code will double the meaning of life, the universe, and everything:  </H3>"
   ]
  },
  {
   "cell_type": "code",
   "execution_count": 4,
   "metadata": {
    "scrolled": true
   },
   "outputs": [
    {
     "data": {
      "text/plain": [
       "84"
      ]
     },
     "execution_count": 4,
     "metadata": {},
     "output_type": "execute_result"
    }
   ],
   "source": [
    "42*2"
   ]
  },
  {
   "cell_type": "markdown",
   "metadata": {},
   "source": [
    "<ol>\n",
    "    <li>One</li>\n",
    "    <li>Two</li>\n",
    "    <li>Three</li>\n",
    "    <li>Four</li>\n",
    "</ol>\n",
    "\n",
    "<div>A quote from the great Abraham Lincoln:</div>\n",
    "<blockquote>\n",
    "Not every quote on the internet is true.\n",
    "</blockquote>\n",
    "\n",
    "<a href=\"https://youtu.be/dQw4w9WgXcQ\">Be very careful online: The text does not necessarily have to identify the embedded link.<a>"
   ]
  }
 ],
 "metadata": {
  "kernelspec": {
   "display_name": "Python 3.9",
   "language": "python",
   "name": "python3"
  },
  "language_info": {
   "codemirror_mode": {
    "name": "ipython",
    "version": 3
   },
   "file_extension": ".py",
   "mimetype": "text/x-python",
   "name": "python",
   "nbconvert_exporter": "python",
   "pygments_lexer": "ipython3",
   "version": "3.9.12"
  }
 },
 "nbformat": 4,
 "nbformat_minor": 1
}
